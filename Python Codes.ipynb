{
 "cells": [
  {
   "cell_type": "markdown",
   "id": "e5be0e25",
   "metadata": {},
   "source": [
    "### 1. Write a Python program to reverse a string without using any built-in string reversal functions."
   ]
  },
  {
   "cell_type": "code",
   "execution_count": 4,
   "id": "a33014cf",
   "metadata": {},
   "outputs": [
    {
     "name": "stdout",
     "output_type": "stream",
     "text": [
      "Enter a string: vishal\n",
      "Reversed string: lahsiv\n"
     ]
    }
   ],
   "source": [
    "def reverse_string(s):\n",
    "    reversed_str = \"\"\n",
    "    for i in range(len(s) - 1, -1, -1):\n",
    "        reversed_str += s[i]\n",
    "    return reversed_str\n",
    "\n",
    "input_str = input(\"Enter a string: \")\n",
    "reversed_string = reverse_string(input_str)\n",
    "print(\"Reversed string:\", reversed_string)\n"
   ]
  },
  {
   "cell_type": "markdown",
   "id": "7c3d7d5d",
   "metadata": {},
   "source": [
    "### 2. Implement a function to check if a given string is a palindrome.\n"
   ]
  },
  {
   "cell_type": "code",
   "execution_count": 5,
   "id": "b2b01f91",
   "metadata": {},
   "outputs": [
    {
     "name": "stdout",
     "output_type": "stream",
     "text": [
      "Enter a string: vishal\n",
      "Not a palindrome\n"
     ]
    }
   ],
   "source": [
    "def is_palindrome(s):\n",
    "    reversed_str = s[::-1]\n",
    "    return s == reversed_str\n",
    "\n",
    "input_str = input(\"Enter a string: \")\n",
    "if is_palindrome(input_str):\n",
    "    print(\"Palindrome\")\n",
    "else:\n",
    "    print(\"Not a palindrome\")\n"
   ]
  },
  {
   "cell_type": "markdown",
   "id": "4e794eff",
   "metadata": {},
   "source": [
    "### 3. Write a program to find the largest element in a given list.\n"
   ]
  },
  {
   "cell_type": "code",
   "execution_count": 6,
   "id": "0dd0d41b",
   "metadata": {},
   "outputs": [
    {
     "name": "stdout",
     "output_type": "stream",
     "text": [
      "Largest element: 30\n"
     ]
    }
   ],
   "source": [
    "def find_largest_element(lst):\n",
    "    largest = lst[0]\n",
    "    for num in lst:\n",
    "        if num > largest:\n",
    "            largest = num\n",
    "    return largest\n",
    "\n",
    "input_list = [10, 5, 20, 30, 15]\n",
    "largest_element = find_largest_element(input_list)\n",
    "print(\"Largest element:\", largest_element)\n"
   ]
  },
  {
   "cell_type": "markdown",
   "id": "d937fb56",
   "metadata": {},
   "source": [
    "### 4. Implement a function to count the occurrence of each element in a list.\n"
   ]
  },
  {
   "cell_type": "code",
   "execution_count": 7,
   "id": "964d930e",
   "metadata": {},
   "outputs": [
    {
     "name": "stdout",
     "output_type": "stream",
     "text": [
      "Occurrence counts: {1: 1, 2: 2, 3: 3, 4: 4}\n"
     ]
    }
   ],
   "source": [
    "def count_occurrences(lst):\n",
    "    counts = {}\n",
    "    for item in lst:\n",
    "        if item in counts:\n",
    "            counts[item] += 1\n",
    "        else:\n",
    "            counts[item] = 1\n",
    "    return counts\n",
    "\n",
    "input_list = [1, 2, 2, 3, 3, 3, 4, 4, 4, 4]\n",
    "occurrence_counts = count_occurrences(input_list)\n",
    "print(\"Occurrence counts:\", occurrence_counts)\n"
   ]
  },
  {
   "cell_type": "markdown",
   "id": "0150b65c",
   "metadata": {},
   "source": [
    "### 5. Write a Python program to find the second largest number in a list.\n"
   ]
  },
  {
   "cell_type": "code",
   "execution_count": 8,
   "id": "fbcf1886",
   "metadata": {},
   "outputs": [
    {
     "name": "stdout",
     "output_type": "stream",
     "text": [
      "Second largest number: 20\n"
     ]
    }
   ],
   "source": [
    "def find_second_largest(lst):\n",
    "    largest = float('-inf')\n",
    "    second_largest = float('-inf')\n",
    "    for num in lst:\n",
    "        if num > largest:\n",
    "            second_largest = largest\n",
    "            largest = num\n",
    "        elif num > second_largest and num != largest:\n",
    "            second_largest = num\n",
    "    return second_largest\n",
    "\n",
    "input_list = [10, 5, 20, 30, 15]\n",
    "second_largest = find_second_largest(input_list)\n",
    "print(\"Second largest number:\", second_largest)\n"
   ]
  },
  {
   "cell_type": "markdown",
   "id": "9f9f0886",
   "metadata": {},
   "source": [
    "### 6. Implement a function to remove duplicate elements from a list.\n"
   ]
  },
  {
   "cell_type": "code",
   "execution_count": 11,
   "id": "2ce7a54e",
   "metadata": {},
   "outputs": [
    {
     "name": "stdout",
     "output_type": "stream",
     "text": [
      "List without duplicates: [1, 2, 3, 4, 5]\n"
     ]
    }
   ],
   "source": [
    "def remove_duplicates(lst):\n",
    "    unique_list = []\n",
    "    for item in lst:\n",
    "        if item not in unique_list:\n",
    "            unique_list.append(item)\n",
    "    return unique_list\n",
    "\n",
    "input_list = [1, 2, 2, 3, 4, 4, 5]\n",
    "list_without_duplicates = remove_duplicates(input_list)\n",
    "print(\"List without duplicates:\", list_without_duplicates)\n"
   ]
  },
  {
   "cell_type": "markdown",
   "id": "1c9ea4f6",
   "metadata": {},
   "source": [
    "### 7. Write a program to calculate the factorial of a given number.\n"
   ]
  },
  {
   "cell_type": "code",
   "execution_count": 10,
   "id": "13badc34",
   "metadata": {},
   "outputs": [
    {
     "name": "stdout",
     "output_type": "stream",
     "text": [
      "Enter a number: 5\n",
      "Factorial: 120\n"
     ]
    }
   ],
   "source": [
    "def factorial(n):\n",
    "    if n == 0 or n == 1:\n",
    "        return 1\n",
    "    else:\n",
    "        return n * factorial(n - 1)\n",
    "\n",
    "num = int(input(\"Enter a number: \"))\n",
    "result = factorial(num)\n",
    "print(\"Factorial:\", result)\n"
   ]
  },
  {
   "cell_type": "markdown",
   "id": "e5add39d",
   "metadata": {},
   "source": [
    "### 8. Implement a function to check if a given number is prime.\n"
   ]
  },
  {
   "cell_type": "code",
   "execution_count": 13,
   "id": "ae486203",
   "metadata": {},
   "outputs": [
    {
     "name": "stdout",
     "output_type": "stream",
     "text": [
      "Enter a number: 5\n",
      "Prime\n"
     ]
    }
   ],
   "source": [
    "def is_prime(num):\n",
    "    if num <= 1:\n",
    "        return False\n",
    "    for i in range(2, int(num**0.5) + 1):\n",
    "        if num % i == 0:\n",
    "            return False\n",
    "    return True\n",
    "\n",
    "num = int(input(\"Enter a number: \"))\n",
    "if is_prime(num):\n",
    "    print(\"Prime\")\n",
    "else:\n",
    "    print(\"Not prime\")\n"
   ]
  },
  {
   "cell_type": "markdown",
   "id": "2d85245a",
   "metadata": {},
   "source": [
    "### 9. Write a Python program to sort a list of integers in ascending order.\n"
   ]
  },
  {
   "cell_type": "code",
   "execution_count": 14,
   "id": "2f417c48",
   "metadata": {},
   "outputs": [
    {
     "name": "stdout",
     "output_type": "stream",
     "text": [
      "Sorted list: [1, 2, 5, 8, 10]\n"
     ]
    }
   ],
   "source": [
    "def sort_list(lst):\n",
    "    return sorted(lst)\n",
    "\n",
    "input_list = [5, 2, 8, 1, 10]\n",
    "sorted_list = sort_list(input_list)\n",
    "print(\"Sorted list:\", sorted_list)\n"
   ]
  },
  {
   "cell_type": "markdown",
   "id": "6d5228f0",
   "metadata": {},
   "source": [
    "### 10. Implement a function to find the sum of all numbers in a list.\n"
   ]
  },
  {
   "cell_type": "code",
   "execution_count": 15,
   "id": "bb0dea15",
   "metadata": {},
   "outputs": [
    {
     "name": "stdout",
     "output_type": "stream",
     "text": [
      "Sum of numbers: 15\n"
     ]
    }
   ],
   "source": [
    "def sum_list(lst):\n",
    "    return sum(lst)\n",
    "\n",
    "input_list = [1, 2, 3, 4, 5]\n",
    "sum_of_numbers = sum_list(input_list)\n",
    "print(\"Sum of numbers:\", sum_of_numbers)\n"
   ]
  },
  {
   "cell_type": "markdown",
   "id": "055c34f3",
   "metadata": {},
   "source": [
    "### 11. Write a program to find the common elements between two lists.\n"
   ]
  },
  {
   "cell_type": "code",
   "execution_count": 16,
   "id": "787cefd5",
   "metadata": {},
   "outputs": [
    {
     "name": "stdout",
     "output_type": "stream",
     "text": [
      "Common elements: [4, 5]\n"
     ]
    }
   ],
   "source": [
    "def find_common_elements(list1, list2):\n",
    "    common_elements = []\n",
    "    for item in list1:\n",
    "        if item in list2 and item not in common_elements:\n",
    "            common_elements.append(item)\n",
    "    return common_elements\n",
    "\n",
    "list1 = [1, 2, 3, 4, 5]\n",
    "list2 = [4, 5, 6, 7, 8]\n",
    "common_elements = find_common_elements(list1, list2)\n",
    "print(\"Common elements:\", common_elements)\n"
   ]
  },
  {
   "cell_type": "markdown",
   "id": "d5b8b33d",
   "metadata": {},
   "source": [
    "### 12. Implement a function to check if a given string is an anagram of another string.\n"
   ]
  },
  {
   "cell_type": "code",
   "execution_count": 17,
   "id": "8a1f66d2",
   "metadata": {},
   "outputs": [
    {
     "name": "stdout",
     "output_type": "stream",
     "text": [
      "Enter the first string: vishal \n",
      "Enter the second string: shelar\n",
      "Not an anagram\n"
     ]
    }
   ],
   "source": [
    "def is_anagram(str1, str2):\n",
    "    return sorted(str1) == sorted(str2)\n",
    "\n",
    "string1 = input(\"Enter the first string: \")\n",
    "string2 = input(\"Enter the second string: \")\n",
    "if is_anagram(string1, string2):\n",
    "    print(\"Anagram\")\n",
    "else:\n",
    "    print(\"Not an anagram\")\n"
   ]
  },
  {
   "cell_type": "markdown",
   "id": "1254ee68",
   "metadata": {},
   "source": [
    "### 13. Write a Python program to generate all permutations of a given string.\n"
   ]
  },
  {
   "cell_type": "code",
   "execution_count": 18,
   "id": "965b501f",
   "metadata": {},
   "outputs": [
    {
     "name": "stdout",
     "output_type": "stream",
     "text": [
      "Enter a string: vishal\n",
      "Permutations: ['vishal', 'vishla', 'visahl', 'visalh', 'vislha', 'vislah', 'vihsal', 'vihsla', 'vihasl', 'vihals', 'vihlsa', 'vihlas', 'viashl', 'viaslh', 'viahsl', 'viahls', 'vialsh', 'vialhs', 'vilsha', 'vilsah', 'vilhsa', 'vilhas', 'vilash', 'vilahs', 'vsihal', 'vsihla', 'vsiahl', 'vsialh', 'vsilha', 'vsilah', 'vshial', 'vshila', 'vshail', 'vshali', 'vshlia', 'vshlai', 'vsaihl', 'vsailh', 'vsahil', 'vsahli', 'vsalih', 'vsalhi', 'vsliha', 'vsliah', 'vslhia', 'vslhai', 'vslaih', 'vslahi', 'vhisal', 'vhisla', 'vhiasl', 'vhials', 'vhilsa', 'vhilas', 'vhsial', 'vhsila', 'vhsail', 'vhsali', 'vhslia', 'vhslai', 'vhaisl', 'vhails', 'vhasil', 'vhasli', 'vhalis', 'vhalsi', 'vhlisa', 'vhlias', 'vhlsia', 'vhlsai', 'vhlais', 'vhlasi', 'vaishl', 'vaislh', 'vaihsl', 'vaihls', 'vailsh', 'vailhs', 'vasihl', 'vasilh', 'vashil', 'vashli', 'vaslih', 'vaslhi', 'vahisl', 'vahils', 'vahsil', 'vahsli', 'vahlis', 'vahlsi', 'valish', 'valihs', 'valsih', 'valshi', 'valhis', 'valhsi', 'vlisha', 'vlisah', 'vlihsa', 'vlihas', 'vliash', 'vliahs', 'vlsiha', 'vlsiah', 'vlshia', 'vlshai', 'vlsaih', 'vlsahi', 'vlhisa', 'vlhias', 'vlhsia', 'vlhsai', 'vlhais', 'vlhasi', 'vlaish', 'vlaihs', 'vlasih', 'vlashi', 'vlahis', 'vlahsi', 'ivshal', 'ivshla', 'ivsahl', 'ivsalh', 'ivslha', 'ivslah', 'ivhsal', 'ivhsla', 'ivhasl', 'ivhals', 'ivhlsa', 'ivhlas', 'ivashl', 'ivaslh', 'ivahsl', 'ivahls', 'ivalsh', 'ivalhs', 'ivlsha', 'ivlsah', 'ivlhsa', 'ivlhas', 'ivlash', 'ivlahs', 'isvhal', 'isvhla', 'isvahl', 'isvalh', 'isvlha', 'isvlah', 'ishval', 'ishvla', 'ishavl', 'ishalv', 'ishlva', 'ishlav', 'isavhl', 'isavlh', 'isahvl', 'isahlv', 'isalvh', 'isalhv', 'islvha', 'islvah', 'islhva', 'islhav', 'islavh', 'islahv', 'ihvsal', 'ihvsla', 'ihvasl', 'ihvals', 'ihvlsa', 'ihvlas', 'ihsval', 'ihsvla', 'ihsavl', 'ihsalv', 'ihslva', 'ihslav', 'ihavsl', 'ihavls', 'ihasvl', 'ihaslv', 'ihalvs', 'ihalsv', 'ihlvsa', 'ihlvas', 'ihlsva', 'ihlsav', 'ihlavs', 'ihlasv', 'iavshl', 'iavslh', 'iavhsl', 'iavhls', 'iavlsh', 'iavlhs', 'iasvhl', 'iasvlh', 'iashvl', 'iashlv', 'iaslvh', 'iaslhv', 'iahvsl', 'iahvls', 'iahsvl', 'iahslv', 'iahlvs', 'iahlsv', 'ialvsh', 'ialvhs', 'ialsvh', 'ialshv', 'ialhvs', 'ialhsv', 'ilvsha', 'ilvsah', 'ilvhsa', 'ilvhas', 'ilvash', 'ilvahs', 'ilsvha', 'ilsvah', 'ilshva', 'ilshav', 'ilsavh', 'ilsahv', 'ilhvsa', 'ilhvas', 'ilhsva', 'ilhsav', 'ilhavs', 'ilhasv', 'ilavsh', 'ilavhs', 'ilasvh', 'ilashv', 'ilahvs', 'ilahsv', 'svihal', 'svihla', 'sviahl', 'svialh', 'svilha', 'svilah', 'svhial', 'svhila', 'svhail', 'svhali', 'svhlia', 'svhlai', 'svaihl', 'svailh', 'svahil', 'svahli', 'svalih', 'svalhi', 'svliha', 'svliah', 'svlhia', 'svlhai', 'svlaih', 'svlahi', 'sivhal', 'sivhla', 'sivahl', 'sivalh', 'sivlha', 'sivlah', 'sihval', 'sihvla', 'sihavl', 'sihalv', 'sihlva', 'sihlav', 'siavhl', 'siavlh', 'siahvl', 'siahlv', 'sialvh', 'sialhv', 'silvha', 'silvah', 'silhva', 'silhav', 'silavh', 'silahv', 'shvial', 'shvila', 'shvail', 'shvali', 'shvlia', 'shvlai', 'shival', 'shivla', 'shiavl', 'shialv', 'shilva', 'shilav', 'shavil', 'shavli', 'shaivl', 'shailv', 'shalvi', 'shaliv', 'shlvia', 'shlvai', 'shliva', 'shliav', 'shlavi', 'shlaiv', 'savihl', 'savilh', 'savhil', 'savhli', 'savlih', 'savlhi', 'saivhl', 'saivlh', 'saihvl', 'saihlv', 'sailvh', 'sailhv', 'sahvil', 'sahvli', 'sahivl', 'sahilv', 'sahlvi', 'sahliv', 'salvih', 'salvhi', 'salivh', 'salihv', 'salhvi', 'salhiv', 'slviha', 'slviah', 'slvhia', 'slvhai', 'slvaih', 'slvahi', 'slivha', 'slivah', 'slihva', 'slihav', 'sliavh', 'sliahv', 'slhvia', 'slhvai', 'slhiva', 'slhiav', 'slhavi', 'slhaiv', 'slavih', 'slavhi', 'slaivh', 'slaihv', 'slahvi', 'slahiv', 'hvisal', 'hvisla', 'hviasl', 'hvials', 'hvilsa', 'hvilas', 'hvsial', 'hvsila', 'hvsail', 'hvsali', 'hvslia', 'hvslai', 'hvaisl', 'hvails', 'hvasil', 'hvasli', 'hvalis', 'hvalsi', 'hvlisa', 'hvlias', 'hvlsia', 'hvlsai', 'hvlais', 'hvlasi', 'hivsal', 'hivsla', 'hivasl', 'hivals', 'hivlsa', 'hivlas', 'hisval', 'hisvla', 'hisavl', 'hisalv', 'hislva', 'hislav', 'hiavsl', 'hiavls', 'hiasvl', 'hiaslv', 'hialvs', 'hialsv', 'hilvsa', 'hilvas', 'hilsva', 'hilsav', 'hilavs', 'hilasv', 'hsvial', 'hsvila', 'hsvail', 'hsvali', 'hsvlia', 'hsvlai', 'hsival', 'hsivla', 'hsiavl', 'hsialv', 'hsilva', 'hsilav', 'hsavil', 'hsavli', 'hsaivl', 'hsailv', 'hsalvi', 'hsaliv', 'hslvia', 'hslvai', 'hsliva', 'hsliav', 'hslavi', 'hslaiv', 'havisl', 'havils', 'havsil', 'havsli', 'havlis', 'havlsi', 'haivsl', 'haivls', 'haisvl', 'haislv', 'hailvs', 'hailsv', 'hasvil', 'hasvli', 'hasivl', 'hasilv', 'haslvi', 'hasliv', 'halvis', 'halvsi', 'halivs', 'halisv', 'halsvi', 'halsiv', 'hlvisa', 'hlvias', 'hlvsia', 'hlvsai', 'hlvais', 'hlvasi', 'hlivsa', 'hlivas', 'hlisva', 'hlisav', 'hliavs', 'hliasv', 'hlsvia', 'hlsvai', 'hlsiva', 'hlsiav', 'hlsavi', 'hlsaiv', 'hlavis', 'hlavsi', 'hlaivs', 'hlaisv', 'hlasvi', 'hlasiv', 'avishl', 'avislh', 'avihsl', 'avihls', 'avilsh', 'avilhs', 'avsihl', 'avsilh', 'avshil', 'avshli', 'avslih', 'avslhi', 'avhisl', 'avhils', 'avhsil', 'avhsli', 'avhlis', 'avhlsi', 'avlish', 'avlihs', 'avlsih', 'avlshi', 'avlhis', 'avlhsi', 'aivshl', 'aivslh', 'aivhsl', 'aivhls', 'aivlsh', 'aivlhs', 'aisvhl', 'aisvlh', 'aishvl', 'aishlv', 'aislvh', 'aislhv', 'aihvsl', 'aihvls', 'aihsvl', 'aihslv', 'aihlvs', 'aihlsv', 'ailvsh', 'ailvhs', 'ailsvh', 'ailshv', 'ailhvs', 'ailhsv', 'asvihl', 'asvilh', 'asvhil', 'asvhli', 'asvlih', 'asvlhi', 'asivhl', 'asivlh', 'asihvl', 'asihlv', 'asilvh', 'asilhv', 'ashvil', 'ashvli', 'ashivl', 'ashilv', 'ashlvi', 'ashliv', 'aslvih', 'aslvhi', 'aslivh', 'aslihv', 'aslhvi', 'aslhiv', 'ahvisl', 'ahvils', 'ahvsil', 'ahvsli', 'ahvlis', 'ahvlsi', 'ahivsl', 'ahivls', 'ahisvl', 'ahislv', 'ahilvs', 'ahilsv', 'ahsvil', 'ahsvli', 'ahsivl', 'ahsilv', 'ahslvi', 'ahsliv', 'ahlvis', 'ahlvsi', 'ahlivs', 'ahlisv', 'ahlsvi', 'ahlsiv', 'alvish', 'alvihs', 'alvsih', 'alvshi', 'alvhis', 'alvhsi', 'alivsh', 'alivhs', 'alisvh', 'alishv', 'alihvs', 'alihsv', 'alsvih', 'alsvhi', 'alsivh', 'alsihv', 'alshvi', 'alshiv', 'alhvis', 'alhvsi', 'alhivs', 'alhisv', 'alhsvi', 'alhsiv', 'lvisha', 'lvisah', 'lvihsa', 'lvihas', 'lviash', 'lviahs', 'lvsiha', 'lvsiah', 'lvshia', 'lvshai', 'lvsaih', 'lvsahi', 'lvhisa', 'lvhias', 'lvhsia', 'lvhsai', 'lvhais', 'lvhasi', 'lvaish', 'lvaihs', 'lvasih', 'lvashi', 'lvahis', 'lvahsi', 'livsha', 'livsah', 'livhsa', 'livhas', 'livash', 'livahs', 'lisvha', 'lisvah', 'lishva', 'lishav', 'lisavh', 'lisahv', 'lihvsa', 'lihvas', 'lihsva', 'lihsav', 'lihavs', 'lihasv', 'liavsh', 'liavhs', 'liasvh', 'liashv', 'liahvs', 'liahsv', 'lsviha', 'lsviah', 'lsvhia', 'lsvhai', 'lsvaih', 'lsvahi', 'lsivha', 'lsivah', 'lsihva', 'lsihav', 'lsiavh', 'lsiahv', 'lshvia', 'lshvai', 'lshiva', 'lshiav', 'lshavi', 'lshaiv', 'lsavih', 'lsavhi', 'lsaivh', 'lsaihv', 'lsahvi', 'lsahiv', 'lhvisa', 'lhvias', 'lhvsia', 'lhvsai', 'lhvais', 'lhvasi', 'lhivsa', 'lhivas', 'lhisva', 'lhisav', 'lhiavs', 'lhiasv', 'lhsvia', 'lhsvai', 'lhsiva', 'lhsiav', 'lhsavi', 'lhsaiv', 'lhavis', 'lhavsi', 'lhaivs', 'lhaisv', 'lhasvi', 'lhasiv', 'lavish', 'lavihs', 'lavsih', 'lavshi', 'lavhis', 'lavhsi', 'laivsh', 'laivhs', 'laisvh', 'laishv', 'laihvs', 'laihsv', 'lasvih', 'lasvhi', 'lasivh', 'lasihv', 'lashvi', 'lashiv', 'lahvis', 'lahvsi', 'lahivs', 'lahisv', 'lahsvi', 'lahsiv']\n"
     ]
    }
   ],
   "source": [
    "import itertools\n",
    "\n",
    "def generate_permutations(string):\n",
    "    permutations = [''.join(p) for p in itertools.permutations(string)]\n",
    "    return permutations\n",
    "\n",
    "input_string = input(\"Enter a string: \")\n",
    "permutations = generate_permutations(input_string)\n",
    "print(\"Permutations:\", permutations)\n"
   ]
  },
  {
   "cell_type": "markdown",
   "id": "931ef8d4",
   "metadata": {},
   "source": [
    "### 14. Implement a function to calculate the Fibonacci sequence up to a given number of terms. first missing positive"
   ]
  },
  {
   "cell_type": "code",
   "execution_count": 21,
   "id": "8e9c74a0",
   "metadata": {},
   "outputs": [
    {
     "name": "stdout",
     "output_type": "stream",
     "text": [
      "Enter the number of terms: 5\n",
      "Fibonacci sequence: [0, 1, 1, 2, 3]\n"
     ]
    }
   ],
   "source": [
    "def fibonacci_sequence(num_terms):\n",
    "    sequence = [0, 1]\n",
    "    if num_terms <= 2:\n",
    "        return sequence[:num_terms]\n",
    "    else:\n",
    "        while len(sequence) < num_terms:\n",
    "            next_num = sequence[-1] + sequence[-2]\n",
    "            sequence.append(next_num)\n",
    "        return sequence\n",
    "\n",
    "num_terms = int(input(\"Enter the number of terms: \"))\n",
    "fibonacci_seq = fibonacci_sequence(num_terms)\n",
    "print(\"Fibonacci sequence:\", fibonacci_seq)\n"
   ]
  },
  {
   "cell_type": "markdown",
   "id": "dded75a7",
   "metadata": {},
   "source": [
    "### 15. Write a program to find the median of a list of numbers.\n"
   ]
  },
  {
   "cell_type": "code",
   "execution_count": 22,
   "id": "41f5754f",
   "metadata": {},
   "outputs": [
    {
     "name": "stdout",
     "output_type": "stream",
     "text": [
      "Median: 15\n"
     ]
    }
   ],
   "source": [
    "def find_median(lst):\n",
    "    sorted_list = sorted(lst)\n",
    "    n = len(sorted_list)\n",
    "    if n % 2 == 0:\n",
    "        median = (sorted_list[n//2 - 1] + sorted_list[n//2]) / 2\n",
    "    else:\n",
    "        median = sorted_list[n//2]\n",
    "    return median\n",
    "\n",
    "input_list = [10, 5, 20, 30, 15]\n",
    "median = find_median(input_list)\n",
    "print(\"Median:\", median)\n"
   ]
  },
  {
   "cell_type": "markdown",
   "id": "225d8666",
   "metadata": {},
   "source": [
    "### 16. Implement a function to check if a given list is sorted in non-decreasing order.\n"
   ]
  },
  {
   "cell_type": "code",
   "execution_count": 23,
   "id": "a527e0df",
   "metadata": {},
   "outputs": [
    {
     "name": "stdout",
     "output_type": "stream",
     "text": [
      "List is sorted in non-decreasing order\n"
     ]
    }
   ],
   "source": [
    "def is_sorted(lst):\n",
    "    return all(lst[i] <= lst[i + 1] for i in range(len(lst) - 1))\n",
    "\n",
    "input_list = [1, 2, 3, 4, 5]\n",
    "if is_sorted(input_list):\n",
    "    print(\"List is sorted in non-decreasing order\")\n",
    "else:\n",
    "    print(\"List is not sorted in non-decreasing order\")\n"
   ]
  },
  {
   "cell_type": "markdown",
   "id": "7c040fd4",
   "metadata": {},
   "source": [
    "### 17. Write a Python program to find the intersection of two lists.\n"
   ]
  },
  {
   "cell_type": "code",
   "execution_count": 24,
   "id": "649ec30d",
   "metadata": {},
   "outputs": [
    {
     "name": "stdout",
     "output_type": "stream",
     "text": [
      "Intersection: [4, 5]\n"
     ]
    }
   ],
   "source": [
    "def find_intersection(list1, list2):\n",
    "    intersection = list(set(list1) & set(list2))\n",
    "    return intersection\n",
    "\n",
    "list1 = [1, 2, 3, 4, 5]\n",
    "list2 = [4, 5, 6, 7, 8]\n",
    "intersection = find_intersection(list1, list2)\n",
    "print(\"Intersection:\", intersection)\n"
   ]
  },
  {
   "cell_type": "markdown",
   "id": "fa5b8a8d",
   "metadata": {},
   "source": [
    "### 18. Implement a function to find the maximum subarray sum in a given list.\n"
   ]
  },
  {
   "cell_type": "code",
   "execution_count": 25,
   "id": "c6cefda9",
   "metadata": {},
   "outputs": [
    {
     "name": "stdout",
     "output_type": "stream",
     "text": [
      "Maximum subarray sum: 6\n"
     ]
    }
   ],
   "source": [
    "def find_maximum_subarray_sum(lst):\n",
    "    max_sum = current_sum = lst[0]\n",
    "    for num in lst[1:]:\n",
    "        current_sum = max(num, current_sum + num)\n",
    "        max_sum = max(max_sum, current_sum)\n",
    "    return max_sum\n",
    "\n",
    "input_list = [-2, 1, -3, 4, -1, 2, 1, -5, 4]\n",
    "max_subarray_sum = find_maximum_subarray_sum(input_list)\n",
    "print(\"Maximum subarray sum:\", max_subarray_sum)\n"
   ]
  },
  {
   "cell_type": "markdown",
   "id": "91528484",
   "metadata": {},
   "source": [
    "### 19. Write a program to remove all vowels from a given string.\n"
   ]
  },
  {
   "cell_type": "code",
   "execution_count": 26,
   "id": "127c9c4f",
   "metadata": {},
   "outputs": [
    {
     "name": "stdout",
     "output_type": "stream",
     "text": [
      "Enter a string: vishal\n",
      "String without vowels: vshl\n"
     ]
    }
   ],
   "source": [
    "def remove_vowels(string):\n",
    "    vowels = 'aeiouAEIOU'\n",
    "    result = \"\"\n",
    "    for char in string:\n",
    "        if char not in vowels:\n",
    "            result += char\n",
    "    return result\n",
    "\n",
    "input_string = input(\"Enter a string: \")\n",
    "string_without_vowels = remove_vowels(input_string)\n",
    "print(\"String without vowels:\", string_without_vowels)\n"
   ]
  },
  {
   "cell_type": "markdown",
   "id": "cc6dd355",
   "metadata": {},
   "source": [
    "### 20. Implement a function to reverse the order of words in a given sentence.\n"
   ]
  },
  {
   "cell_type": "code",
   "execution_count": 27,
   "id": "13bb793d",
   "metadata": {},
   "outputs": [
    {
     "name": "stdout",
     "output_type": "stream",
     "text": [
      "Enter a sentence: my name is vishal dnyandev shelar\n",
      "Reversed sentence: shelar dnyandev vishal is name my\n"
     ]
    }
   ],
   "source": [
    "def reverse_words(sentence):\n",
    "    words = sentence.split()\n",
    "    reversed_sentence = ' '.join(words[::-1])\n",
    "    return reversed_sentence\n",
    "\n",
    "input_sentence = input(\"Enter a sentence: \")\n",
    "reversed_sentence = reverse_words(input_sentence)\n",
    "print(\"Reversed sentence:\", reversed_sentence)\n"
   ]
  },
  {
   "cell_type": "markdown",
   "id": "5c32ae03",
   "metadata": {},
   "source": [
    "### 21. Write a Python program to check if two strings are anagrams of each other.\n"
   ]
  },
  {
   "cell_type": "code",
   "execution_count": 28,
   "id": "ac5d4952",
   "metadata": {},
   "outputs": [
    {
     "name": "stdout",
     "output_type": "stream",
     "text": [
      "Enter the first string: vishal\n",
      "Enter the second string: shelar\n",
      "The strings are not anagrams\n"
     ]
    }
   ],
   "source": [
    "def are_anagrams(str1, str2):\n",
    "    return sorted(str1) == sorted(str2)\n",
    "\n",
    "string1 = input(\"Enter the first string: \")\n",
    "string2 = input(\"Enter the second string: \")\n",
    "if are_anagrams(string1, string2):\n",
    "    print(\"The strings are anagrams\")\n",
    "else:\n",
    "    print(\"The strings are not anagrams\")\n"
   ]
  },
  {
   "cell_type": "markdown",
   "id": "95697ae1",
   "metadata": {},
   "source": [
    "### 22. Implement a function to find the first non-repeating character in a string.\n"
   ]
  },
  {
   "cell_type": "code",
   "execution_count": 29,
   "id": "f985aaff",
   "metadata": {},
   "outputs": [
    {
     "name": "stdout",
     "output_type": "stream",
     "text": [
      "Enter a string: vishal\n",
      "First non-repeating character: v\n"
     ]
    }
   ],
   "source": [
    "def find_first_non_repeating_character(string):\n",
    "    char_count = {}\n",
    "    for char in string:\n",
    "        if char in char_count:\n",
    "            char_count[char] += 1\n",
    "        else:\n",
    "            char_count[char] = 1\n",
    "    for char in string:\n",
    "        if char_count[char] == 1:\n",
    "            return char\n",
    "    return None\n",
    "\n",
    "input_string = input(\"Enter a string: \")\n",
    "result = find_first_non_repeating_character(input_string)\n",
    "if result:\n",
    "    print(\"First non-repeating character:\", result)\n",
    "else:\n",
    "    print(\"No non-repeating characters found\")\n"
   ]
  },
  {
   "cell_type": "markdown",
   "id": "0e381934",
   "metadata": {},
   "source": [
    "### 23. Write a program to find the prime factors of a given number.\n"
   ]
  },
  {
   "cell_type": "code",
   "execution_count": 30,
   "id": "196f021b",
   "metadata": {},
   "outputs": [
    {
     "name": "stdout",
     "output_type": "stream",
     "text": [
      "Enter a number: 3\n",
      "Prime factors: [3]\n"
     ]
    }
   ],
   "source": [
    "def find_prime_factors(num):\n",
    "    factors = []\n",
    "    divisor = 2\n",
    "    while divisor <= num:\n",
    "        if num % divisor == 0:\n",
    "            factors.append(divisor)\n",
    "            num /= divisor\n",
    "        else:\n",
    "            divisor += 1\n",
    "    return factors\n",
    "\n",
    "num = int(input(\"Enter a number: \"))\n",
    "prime_factors = find_prime_factors(num)\n",
    "print(\"Prime factors:\", prime_factors)\n"
   ]
  },
  {
   "cell_type": "markdown",
   "id": "bd8bac66",
   "metadata": {},
   "source": [
    "### 24. Implement a function to check if a given number is a power of two.\n"
   ]
  },
  {
   "cell_type": "code",
   "execution_count": 31,
   "id": "cb7d066f",
   "metadata": {},
   "outputs": [
    {
     "name": "stdout",
     "output_type": "stream",
     "text": [
      "Enter a number: 8\n",
      "The number is a power of two\n"
     ]
    }
   ],
   "source": [
    "def is_power_of_two(num):\n",
    "    return num > 0 and (num & (num - 1)) == 0\n",
    "\n",
    "num = int(input(\"Enter a number: \"))\n",
    "if is_power_of_two(num):\n",
    "    print(\"The number is a power of two\")\n",
    "else:\n",
    "    print(\"The number is not a power of two\")\n"
   ]
  },
  {
   "cell_type": "markdown",
   "id": "c36a6bc1",
   "metadata": {},
   "source": [
    "### 25. Write a Python program to merge two sorted lists into a single sorted list.\n"
   ]
  },
  {
   "cell_type": "code",
   "execution_count": 32,
   "id": "646c4d31",
   "metadata": {},
   "outputs": [
    {
     "name": "stdout",
     "output_type": "stream",
     "text": [
      "Merged list: [1, 2, 3, 4, 5, 6, 7, 8, 9, 10]\n"
     ]
    }
   ],
   "source": [
    "def merge_sorted_lists(list1, list2):\n",
    "    merged_list = []\n",
    "    i = j = 0\n",
    "    while i < len(list1) and j < len(list2):\n",
    "        if list1[i] <= list2[j]:\n",
    "            merged_list.append(list1[i])\n",
    "            i += 1\n",
    "        else:\n",
    "            merged_list.append(list2[j])\n",
    "            j += 1\n",
    "    merged_list.extend(list1[i:])\n",
    "    merged_list.extend(list2[j:])\n",
    "    return merged_list\n",
    "\n",
    "list1 = [1, 3, 5, 7, 9]\n",
    "list2 = [2, 4, 6, 8, 10]\n",
    "merged_list = merge_sorted_lists(list1, list2)\n",
    "print(\"Merged list:\", merged_list)\n"
   ]
  },
  {
   "cell_type": "markdown",
   "id": "3e2a14e0",
   "metadata": {},
   "source": [
    "### 26. Implement a function to find the mode of a list of numbers.\n"
   ]
  },
  {
   "cell_type": "code",
   "execution_count": 33,
   "id": "b0a6072c",
   "metadata": {},
   "outputs": [
    {
     "name": "stdout",
     "output_type": "stream",
     "text": [
      "Mode: [4]\n"
     ]
    }
   ],
   "source": [
    "from collections import Counter\n",
    "\n",
    "def find_mode(lst):\n",
    "    counts = Counter(lst)\n",
    "    max_count = max(counts.values())\n",
    "    mode = [num for num, count in counts.items() if count == max_count]\n",
    "    return mode\n",
    "\n",
    "input_list = [1, 2, 2, 3, 3, 3, 4, 4, 4, 4]\n",
    "mode = find_mode(input_list)\n",
    "print(\"Mode:\", mode)\n"
   ]
  },
  {
   "cell_type": "markdown",
   "id": "40ee885f",
   "metadata": {},
   "source": [
    "### 27. Write a program to find the greatest common divisor (GCD) of two numbers.\n"
   ]
  },
  {
   "cell_type": "code",
   "execution_count": 34,
   "id": "5fb52f54",
   "metadata": {},
   "outputs": [
    {
     "name": "stdout",
     "output_type": "stream",
     "text": [
      "Enter the first number: 2\n",
      "Enter the second number: 4\n",
      "GCD: 2\n"
     ]
    }
   ],
   "source": [
    "def find_gcd(a, b):\n",
    "    while b != 0:\n",
    "        a, b = b, a % b\n",
    "    return a\n",
    "\n",
    "num1 = int(input(\"Enter the first number: \"))\n",
    "num2 = int(input(\"Enter the second number: \"))\n",
    "gcd = find_gcd(num1, num2)\n",
    "print(\"GCD:\", gcd)\n"
   ]
  },
  {
   "cell_type": "markdown",
   "id": "79ac2a8a",
   "metadata": {},
   "source": [
    "### 28. Implement a function to calculate the square root of a given number.\n"
   ]
  },
  {
   "cell_type": "code",
   "execution_count": 35,
   "id": "38fbf129",
   "metadata": {},
   "outputs": [
    {
     "name": "stdout",
     "output_type": "stream",
     "text": [
      "Enter a number: 4\n",
      "Square root: 2.0\n"
     ]
    }
   ],
   "source": [
    "def square_root(num):\n",
    "    if num < 0:\n",
    "        return None\n",
    "    else:\n",
    "        return num ** 0.5\n",
    "\n",
    "num = float(input(\"Enter a number: \"))\n",
    "result = square_root(num)\n",
    "if result is None:\n",
    "    print(\"Invalid input (negative number)\")\n",
    "else:\n",
    "    print(\"Square root:\", result)\n"
   ]
  },
  {
   "cell_type": "markdown",
   "id": "e4ce0f89",
   "metadata": {},
   "source": [
    "### 29. Write a Python program to check if a given string is a valid palindrome ignoring non-alphanumeric characters.\n"
   ]
  },
  {
   "cell_type": "code",
   "execution_count": 36,
   "id": "d5ac1d87",
   "metadata": {},
   "outputs": [
    {
     "name": "stdout",
     "output_type": "stream",
     "text": [
      "Enter a string: vishal\n",
      "Not a valid palindrome\n"
     ]
    }
   ],
   "source": [
    "import re\n",
    "\n",
    "def is_valid_palindrome(string):\n",
    "    alphanumeric_string = re.sub(r'\\W+', '', string.lower())\n",
    "    return alphanumeric_string == alphanumeric_string[::-1]\n",
    "\n",
    "input_string = input(\"Enter a string: \")\n",
    "if is_valid_palindrome(input_string):\n",
    "    print(\"Valid palindrome\")\n",
    "else:\n",
    "    print(\"Not a valid palindrome\")\n"
   ]
  },
  {
   "cell_type": "markdown",
   "id": "cad8820d",
   "metadata": {},
   "source": [
    "### 30. Implement a function to find the minimum element in a rotated sorted list.\n"
   ]
  },
  {
   "cell_type": "code",
   "execution_count": 37,
   "id": "5e98bdd5",
   "metadata": {},
   "outputs": [
    {
     "name": "stdout",
     "output_type": "stream",
     "text": [
      "Minimum element: 1\n"
     ]
    }
   ],
   "source": [
    "def find_min_in_rotated_list(lst):\n",
    "    left = 0\n",
    "    right = len(lst) - 1\n",
    "    while left < right:\n",
    "        mid = (left + right) // 2\n",
    "        if lst[mid] > lst[right]:\n",
    "            left = mid + 1\n",
    "        else:\n",
    "            right = mid\n",
    "    return lst[left]\n",
    "\n",
    "input_list = [5, 6, 7, 8, 1, 2, 3, 4]\n",
    "min_element = find_min_in_rotated_list(input_list)\n",
    "print(\"Minimum element:\", min_element)\n"
   ]
  },
  {
   "cell_type": "markdown",
   "id": "388f6dfe",
   "metadata": {},
   "source": [
    "### 31. Write a program to find the sum of all even numbers in a list.\n"
   ]
  },
  {
   "cell_type": "code",
   "execution_count": 38,
   "id": "5ee33b99",
   "metadata": {},
   "outputs": [
    {
     "name": "stdout",
     "output_type": "stream",
     "text": [
      "Sum of even numbers: 30\n"
     ]
    }
   ],
   "source": [
    "def sum_even_numbers(lst):\n",
    "    return sum(num for num in lst if num % 2 == 0)\n",
    "\n",
    "input_list = [1, 2, 3, 4, 5, 6, 7, 8, 9, 10]\n",
    "sum_even = sum_even_numbers(input_list)\n",
    "print(\"Sum of even numbers:\", sum_even)\n"
   ]
  },
  {
   "cell_type": "markdown",
   "id": "9c4fe57c",
   "metadata": {},
   "source": [
    "### 32. Implement a function to calculate the power of a number using recursion.\n"
   ]
  },
  {
   "cell_type": "code",
   "execution_count": 39,
   "id": "fd855aeb",
   "metadata": {},
   "outputs": [
    {
     "name": "stdout",
     "output_type": "stream",
     "text": [
      "Enter the base: 5\n",
      "Enter the exponent: 3\n",
      "Result: 125.0\n"
     ]
    }
   ],
   "source": [
    "def power(base, exponent):\n",
    "    if exponent == 0:\n",
    "        return 1\n",
    "    elif exponent > 0:\n",
    "        return base * power(base, exponent - 1)\n",
    "    else:\n",
    "        return 1 / power(base, -exponent)\n",
    "\n",
    "base = float(input(\"Enter the base: \"))\n",
    "exponent = int(input(\"Enter the exponent: \"))\n",
    "result = power(base, exponent)\n",
    "print(\"Result:\", result)\n"
   ]
  },
  {
   "cell_type": "markdown",
   "id": "a71f2af6",
   "metadata": {},
   "source": [
    "### 33. Write a Python program to remove duplicates from a list while preserving the order.\n"
   ]
  },
  {
   "cell_type": "code",
   "execution_count": 40,
   "id": "88f5310c",
   "metadata": {},
   "outputs": [
    {
     "name": "stdout",
     "output_type": "stream",
     "text": [
      "List without duplicates: [1, 2, 3, 4, 5]\n"
     ]
    }
   ],
   "source": [
    "def remove_duplicates_preserve_order(lst):\n",
    "    unique_list = []\n",
    "    for item in lst:\n",
    "        if item not in unique_list:\n",
    "            unique_list.append(item)\n",
    "    return unique_list\n",
    "\n",
    "input_list = [1, 2, 2, 3, 4, 4, 5]\n",
    "list_without_duplicates = remove_duplicates_preserve_order(input_list)\n",
    "print(\"List without duplicates:\", list_without_duplicates)\n"
   ]
  },
  {
   "cell_type": "markdown",
   "id": "c915569b",
   "metadata": {},
   "source": [
    "### 34. Implement a function to find the longest common prefix among a list of strings.\n"
   ]
  },
  {
   "cell_type": "code",
   "execution_count": 41,
   "id": "a39c37d9",
   "metadata": {},
   "outputs": [
    {
     "name": "stdout",
     "output_type": "stream",
     "text": [
      "Longest common prefix: fl\n"
     ]
    }
   ],
   "source": [
    "def find_longest_common_prefix(strings):\n",
    "    if not strings:\n",
    "        return \"\"\n",
    "    prefix = strings[0]\n",
    "    for string in strings[1:]:\n",
    "        while string[:len(prefix)] != prefix:\n",
    "            prefix = prefix[:-1]\n",
    "            if not prefix:\n",
    "                return \"\"\n",
    "    return prefix\n",
    "\n",
    "input_strings = [\"flower\", \"flow\", \"flight\"]\n",
    "common_prefix = find_longest_common_prefix(input_strings)\n",
    "print(\"Longest common prefix:\", common_prefix)\n"
   ]
  },
  {
   "cell_type": "markdown",
   "id": "41588d0b",
   "metadata": {},
   "source": [
    "### 35. Write a program to check if a given number is a perfect square.\n"
   ]
  },
  {
   "cell_type": "code",
   "execution_count": 42,
   "id": "e7a1b60e",
   "metadata": {},
   "outputs": [
    {
     "name": "stdout",
     "output_type": "stream",
     "text": [
      "Enter a number: 4\n",
      "Perfect square\n"
     ]
    }
   ],
   "source": [
    "def is_perfect_square(num):\n",
    "    sqrt = num ** 0.5\n",
    "    return sqrt.is_integer()\n",
    "\n",
    "num = int(input(\"Enter a number: \"))\n",
    "if is_perfect_square(num):\n",
    "    print(\"Perfect square\")\n",
    "else:\n",
    "    print(\"Not a perfect square\")\n"
   ]
  },
  {
   "cell_type": "markdown",
   "id": "ba5f33cb",
   "metadata": {},
   "source": [
    "### 36. Implement a function to calculate the product of all elements in a list.\n"
   ]
  },
  {
   "cell_type": "code",
   "execution_count": 43,
   "id": "c63d9fa9",
   "metadata": {},
   "outputs": [
    {
     "name": "stdout",
     "output_type": "stream",
     "text": [
      "Product: 120\n"
     ]
    }
   ],
   "source": [
    "from functools import reduce\n",
    "\n",
    "def calculate_product(lst):\n",
    "    return reduce(lambda x, y: x * y, lst)\n",
    "\n",
    "input_list = [1, 2, 3, 4, 5]\n",
    "product = calculate_product(input_list)\n",
    "print(\"Product:\", product)\n"
   ]
  },
  {
   "cell_type": "markdown",
   "id": "4cf988d2",
   "metadata": {},
   "source": [
    "### 37. Write a Python program to reverse the order of words in a sentence while preserving the word order.\n"
   ]
  },
  {
   "cell_type": "code",
   "execution_count": 44,
   "id": "766039f9",
   "metadata": {},
   "outputs": [
    {
     "name": "stdout",
     "output_type": "stream",
     "text": [
      "Enter a sentence: vishal dnyandev shelar\n",
      "Reversed sentence: shelar dnyandev vishal\n"
     ]
    }
   ],
   "source": [
    "def reverse_sentence(sentence):\n",
    "    words = sentence.split()\n",
    "    reversed_words = ' '.join(words[::-1])\n",
    "    return reversed_words\n",
    "\n",
    "input_sentence = input(\"Enter a sentence: \")\n",
    "reversed_sentence = reverse_sentence(input_sentence)\n",
    "print(\"Reversed sentence:\", reversed_sentence)\n"
   ]
  },
  {
   "cell_type": "markdown",
   "id": "398fdb9f",
   "metadata": {},
   "source": [
    "### 38. Implement a function to find the missing number in a given list of consecutive numbers.\n"
   ]
  },
  {
   "cell_type": "code",
   "execution_count": 45,
   "id": "7198a7a9",
   "metadata": {},
   "outputs": [
    {
     "name": "stdout",
     "output_type": "stream",
     "text": [
      "Missing number: 4\n"
     ]
    }
   ],
   "source": [
    "def find_missing_number(lst):\n",
    "    n = len(lst) + 1\n",
    "    expected_sum = n * (n + 1) // 2\n",
    "    actual_sum = sum(lst)\n",
    "    missing_number = expected_sum - actual_sum\n",
    "    return missing_number\n",
    "\n",
    "input_list = [1, 2, 3, 5, 6, 7, 8, 9]\n",
    "missing_number = find_missing_number(input_list)\n",
    "print(\"Missing number:\", missing_number)\n"
   ]
  },
  {
   "cell_type": "markdown",
   "id": "51ac4daa",
   "metadata": {},
   "source": [
    "### 39. Write a program to find the sum of digits of a given number.\n"
   ]
  },
  {
   "cell_type": "code",
   "execution_count": 46,
   "id": "470a1077",
   "metadata": {},
   "outputs": [
    {
     "name": "stdout",
     "output_type": "stream",
     "text": [
      "Enter a number: 5\n",
      "Sum of digits: 5\n"
     ]
    }
   ],
   "source": [
    "def sum_of_digits(num):\n",
    "    return sum(int(digit) for digit in str(num))\n",
    "\n",
    "num = int(input(\"Enter a number: \"))\n",
    "digit_sum = sum_of_digits(num)\n",
    "print(\"Sum of digits:\", digit_sum)\n"
   ]
  },
  {
   "cell_type": "markdown",
   "id": "2b49f9ff",
   "metadata": {},
   "source": [
    "### 40. Implement a function to check if a given string is a valid palindrome considering case sensitivity.\n"
   ]
  },
  {
   "cell_type": "code",
   "execution_count": 47,
   "id": "3742eea3",
   "metadata": {},
   "outputs": [
    {
     "name": "stdout",
     "output_type": "stream",
     "text": [
      "Enter a string: vishal\n",
      "Not a valid palindrome\n"
     ]
    }
   ],
   "source": [
    "def is_valid_palindrome_case_sensitive(string):\n",
    "    return string == string[::-1]\n",
    "\n",
    "input_string = input(\"Enter a string: \")\n",
    "if is_valid_palindrome_case_sensitive(input_string):\n",
    "    print(\"Valid palindrome\")\n",
    "else:\n",
    "    print(\"Not a valid palindrome\")\n"
   ]
  },
  {
   "cell_type": "markdown",
   "id": "b177ea71",
   "metadata": {},
   "source": [
    "### 41. Write a Python program to find the smallest missing positive integer in a list.\n"
   ]
  },
  {
   "cell_type": "code",
   "execution_count": 48,
   "id": "7b77d3db",
   "metadata": {},
   "outputs": [
    {
     "name": "stdout",
     "output_type": "stream",
     "text": [
      "Smallest missing positive integer: 2\n"
     ]
    }
   ],
   "source": [
    "def find_smallest_missing_positive(lst):\n",
    "    positive_nums = set(num for num in lst if num > 0)\n",
    "    smallest = 1\n",
    "    while smallest in positive_nums:\n",
    "        smallest += 1\n",
    "    return smallest\n",
    "\n",
    "input_list = [-1, -2, 0, 1, 3, 5, 4]\n",
    "smallest_missing = find_smallest_missing_positive(input_list)\n",
    "print(\"Smallest missing positive integer:\", smallest_missing)\n"
   ]
  },
  {
   "cell_type": "markdown",
   "id": "a0f54ea9",
   "metadata": {},
   "source": [
    "### 42. Implement a function to find the longest palindrome substring in a given string.\n"
   ]
  },
  {
   "cell_type": "code",
   "execution_count": 49,
   "id": "2689fd9c",
   "metadata": {},
   "outputs": [
    {
     "name": "stdout",
     "output_type": "stream",
     "text": [
      "Enter a string: vishal dnyandev shelar\n",
      "Longest palindrome substring: v\n"
     ]
    }
   ],
   "source": [
    "def find_longest_palindrome(string):\n",
    "    longest_palindrome = \"\"\n",
    "    for i in range(len(string)):\n",
    "        for j in range(i, len(string)):\n",
    "            substring = string[i:j+1]\n",
    "            if substring == substring[::-1] and len(substring) > len(longest_palindrome):\n",
    "                longest_palindrome = substring\n",
    "    return longest_palindrome\n",
    "\n",
    "input_string = input(\"Enter a string: \")\n",
    "longest_palindrome = find_longest_palindrome(input_string)\n",
    "print(\"Longest palindrome substring:\", longest_palindrome)\n"
   ]
  },
  {
   "cell_type": "markdown",
   "id": "252371ae",
   "metadata": {},
   "source": [
    "### 43. Write a program to find the number of occurrences of a given element in a list.\n"
   ]
  },
  {
   "cell_type": "code",
   "execution_count": 50,
   "id": "4fd64d5a",
   "metadata": {},
   "outputs": [
    {
     "name": "stdout",
     "output_type": "stream",
     "text": [
      "Enter an element: 8\n",
      "Occurrences of 8 : 0\n"
     ]
    }
   ],
   "source": [
    "def count_occurrences(lst, element):\n",
    "    return lst.count(element)\n",
    "\n",
    "input_list = [1, 2, 2, 3, 3, 3, 4, 4, 4, 4]\n",
    "element = int(input(\"Enter an element: \"))\n",
    "occurrence_count = count_occurrences(input_list, element)\n",
    "print(\"Occurrences of\", element, \":\", occurrence_count)\n"
   ]
  },
  {
   "cell_type": "markdown",
   "id": "e740fd13",
   "metadata": {},
   "source": [
    "### 44. Implement a function to check if a given number is a perfect number.\n"
   ]
  },
  {
   "cell_type": "code",
   "execution_count": 51,
   "id": "c9d64357",
   "metadata": {},
   "outputs": [
    {
     "name": "stdout",
     "output_type": "stream",
     "text": [
      "Enter a number: 8\n",
      "Not a perfect number\n"
     ]
    }
   ],
   "source": [
    "def is_perfect_number(num):\n",
    "    divisors = [1]\n",
    "    for i in range(2, int(num**0.5) + 1):\n",
    "        if num % i == 0:\n",
    "            divisors.extend([i, num // i])\n",
    "    return num == sum(divisors)\n",
    "\n",
    "num = int(input(\"Enter a number: \"))\n",
    "if is_perfect_number(num):\n",
    "    print(\"Perfect number\")\n",
    "else:\n",
    "    print(\"Not a perfect number\")\n"
   ]
  },
  {
   "cell_type": "markdown",
   "id": "9dd2f6a2",
   "metadata": {},
   "source": [
    "### 45. Write a Python program to remove all duplicates from a string.\n"
   ]
  },
  {
   "cell_type": "code",
   "execution_count": 52,
   "id": "251d0de8",
   "metadata": {},
   "outputs": [
    {
     "name": "stdout",
     "output_type": "stream",
     "text": [
      "Enter a string: vvishal\n",
      "String without duplicates: vishal\n"
     ]
    }
   ],
   "source": [
    "def remove_duplicates_from_string(string):\n",
    "    unique_chars = []\n",
    "    for char in string:\n",
    "        if char not in unique_chars:\n",
    "            unique_chars.append(char)\n",
    "    return ''.join(unique_chars)\n",
    "\n",
    "input_string = input(\"Enter a string: \")\n",
    "string_without_duplicates = remove_duplicates_from_string(input_string)\n",
    "print(\"String without duplicates:\", string_without_duplicates)\n"
   ]
  },
  {
   "cell_type": "markdown",
   "id": "93f7e78f",
   "metadata": {},
   "source": [
    "### 46. Implement a function to find the first missing positive"
   ]
  },
  {
   "cell_type": "code",
   "execution_count": 53,
   "id": "3929ade6",
   "metadata": {},
   "outputs": [
    {
     "name": "stdout",
     "output_type": "stream",
     "text": [
      "First missing positive integer: 2\n"
     ]
    }
   ],
   "source": [
    "def find_first_missing_positive(nums):\n",
    "    n = len(nums)\n",
    "    for i in range(n):\n",
    "        while 0 < nums[i] <= n and nums[nums[i] - 1] != nums[i]:\n",
    "            nums[nums[i] - 1], nums[i] = nums[i], nums[nums[i] - 1]\n",
    "    for i in range(n):\n",
    "        if nums[i] != i + 1:\n",
    "            return i + 1\n",
    "    return n + 1\n",
    "\n",
    "input_list = [3, 4, -1, 1]\n",
    "first_missing = find_first_missing_positive(input_list)\n",
    "print(\"First missing positive integer:\", first_missing)\n"
   ]
  },
  {
   "cell_type": "code",
   "execution_count": null,
   "id": "d5ac6dd6",
   "metadata": {},
   "outputs": [],
   "source": []
  }
 ],
 "metadata": {
  "kernelspec": {
   "display_name": "Python 3 (ipykernel)",
   "language": "python",
   "name": "python3"
  },
  "language_info": {
   "codemirror_mode": {
    "name": "ipython",
    "version": 3
   },
   "file_extension": ".py",
   "mimetype": "text/x-python",
   "name": "python",
   "nbconvert_exporter": "python",
   "pygments_lexer": "ipython3",
   "version": "3.9.7"
  }
 },
 "nbformat": 4,
 "nbformat_minor": 5
}
